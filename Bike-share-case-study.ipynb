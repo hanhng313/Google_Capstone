{
 "cells": [
  {
   "cell_type": "code",
   "execution_count": 1,
   "id": "52fefadb",
   "metadata": {},
   "outputs": [],
   "source": [
    "import pandas as pd\n",
    "import matplotlib.pyplot as plt\n",
    "%matplotlib inline\n",
    "import seaborn as sns\n",
    "import numpy as np"
   ]
  },
  {
   "cell_type": "code",
   "execution_count": 2,
   "id": "48d151af",
   "metadata": {},
   "outputs": [],
   "source": [
    "jul_2020 = pd.read_csv('datasets/202007-divvy-tripdata.csv')\n",
    "aug_2020 = pd.read_csv('datasets/202008-divvy-tripdata.csv')\n",
    "sep_2020 = pd.read_csv('datasets/202009-divvy-tripdata.csv')\n",
    "oct_2020 = pd.read_csv('datasets/202010-divvy-tripdata.csv')\n",
    "nov_2020 = pd.read_csv('datasets/202011-divvy-tripdata.csv')\n",
    "dec_2020 = pd.read_csv('datasets/202012-divvy-tripdata.csv')\n",
    "jan_2021 = pd.read_csv('datasets/202101-divvy-tripdata.csv')\n",
    "feb_2021 = pd.read_csv('datasets/202102-divvy-tripdata.csv')\n",
    "mar_2021 = pd.read_csv('datasets/202103-divvy-tripdata.csv')\n",
    "apr_2021 = pd.read_csv('datasets/202104-divvy-tripdata.csv')\n",
    "may_2021 = pd.read_csv('datasets/202105-divvy-tripdata.csv')\n",
    "jun_2021 = pd.read_csv('datasets/202106-divvy-tripdata.csv')"
   ]
  },
  {
   "cell_type": "code",
   "execution_count": 3,
   "id": "4930006a",
   "metadata": {},
   "outputs": [],
   "source": [
    "dataframe = [jul_2020, aug_2020, sep_2020, oct_2020, nov_2020, dec_2020, jan_2021, feb_2021, mar_2021, apr_2021, may_2021, jun_2021]\n",
    "df = pd.concat(dataframe)"
   ]
  },
  {
   "cell_type": "code",
   "execution_count": 4,
   "id": "a9cb28fd",
   "metadata": {},
   "outputs": [
    {
     "data": {
      "text/html": [
       "<div>\n",
       "<style scoped>\n",
       "    .dataframe tbody tr th:only-of-type {\n",
       "        vertical-align: middle;\n",
       "    }\n",
       "\n",
       "    .dataframe tbody tr th {\n",
       "        vertical-align: top;\n",
       "    }\n",
       "\n",
       "    .dataframe thead th {\n",
       "        text-align: right;\n",
       "    }\n",
       "</style>\n",
       "<table border=\"1\" class=\"dataframe\">\n",
       "  <thead>\n",
       "    <tr style=\"text-align: right;\">\n",
       "      <th></th>\n",
       "      <th>ride_id</th>\n",
       "      <th>rideable_type</th>\n",
       "      <th>started_at</th>\n",
       "      <th>ended_at</th>\n",
       "      <th>start_station_name</th>\n",
       "      <th>start_station_id</th>\n",
       "      <th>end_station_name</th>\n",
       "      <th>end_station_id</th>\n",
       "      <th>start_lat</th>\n",
       "      <th>start_lng</th>\n",
       "      <th>end_lat</th>\n",
       "      <th>end_lng</th>\n",
       "      <th>member_casual</th>\n",
       "    </tr>\n",
       "  </thead>\n",
       "  <tbody>\n",
       "    <tr>\n",
       "      <th>0</th>\n",
       "      <td>762198876D69004D</td>\n",
       "      <td>docked_bike</td>\n",
       "      <td>2020-07-09 15:22:02</td>\n",
       "      <td>2020-07-09 15:25:52</td>\n",
       "      <td>Ritchie Ct &amp; Banks St</td>\n",
       "      <td>180.0</td>\n",
       "      <td>Wells St &amp; Evergreen Ave</td>\n",
       "      <td>291.0</td>\n",
       "      <td>41.906866</td>\n",
       "      <td>-87.626217</td>\n",
       "      <td>41.906724</td>\n",
       "      <td>-87.634830</td>\n",
       "      <td>member</td>\n",
       "    </tr>\n",
       "    <tr>\n",
       "      <th>1</th>\n",
       "      <td>BEC9C9FBA0D4CF1B</td>\n",
       "      <td>docked_bike</td>\n",
       "      <td>2020-07-24 23:56:30</td>\n",
       "      <td>2020-07-25 00:20:17</td>\n",
       "      <td>Halsted St &amp; Roscoe St</td>\n",
       "      <td>299.0</td>\n",
       "      <td>Broadway &amp; Ridge Ave</td>\n",
       "      <td>461.0</td>\n",
       "      <td>41.943670</td>\n",
       "      <td>-87.648950</td>\n",
       "      <td>41.984045</td>\n",
       "      <td>-87.660274</td>\n",
       "      <td>member</td>\n",
       "    </tr>\n",
       "    <tr>\n",
       "      <th>2</th>\n",
       "      <td>D2FD8EA432C77EC1</td>\n",
       "      <td>docked_bike</td>\n",
       "      <td>2020-07-08 19:49:07</td>\n",
       "      <td>2020-07-08 19:56:22</td>\n",
       "      <td>Lake Shore Dr &amp; Diversey Pkwy</td>\n",
       "      <td>329.0</td>\n",
       "      <td>Clark St &amp; Wellington Ave</td>\n",
       "      <td>156.0</td>\n",
       "      <td>41.932588</td>\n",
       "      <td>-87.636427</td>\n",
       "      <td>41.936497</td>\n",
       "      <td>-87.647539</td>\n",
       "      <td>casual</td>\n",
       "    </tr>\n",
       "    <tr>\n",
       "      <th>3</th>\n",
       "      <td>54AE594E20B35881</td>\n",
       "      <td>docked_bike</td>\n",
       "      <td>2020-07-17 19:06:42</td>\n",
       "      <td>2020-07-17 19:27:38</td>\n",
       "      <td>LaSalle St &amp; Illinois St</td>\n",
       "      <td>181.0</td>\n",
       "      <td>Clark St &amp; Armitage Ave</td>\n",
       "      <td>94.0</td>\n",
       "      <td>41.890762</td>\n",
       "      <td>-87.631697</td>\n",
       "      <td>41.918306</td>\n",
       "      <td>-87.636282</td>\n",
       "      <td>casual</td>\n",
       "    </tr>\n",
       "    <tr>\n",
       "      <th>4</th>\n",
       "      <td>54025FDC7440B56F</td>\n",
       "      <td>docked_bike</td>\n",
       "      <td>2020-07-04 10:39:57</td>\n",
       "      <td>2020-07-04 10:45:05</td>\n",
       "      <td>Lake Shore Dr &amp; North Blvd</td>\n",
       "      <td>268.0</td>\n",
       "      <td>Clark St &amp; Schiller St</td>\n",
       "      <td>301.0</td>\n",
       "      <td>41.911722</td>\n",
       "      <td>-87.626804</td>\n",
       "      <td>41.907993</td>\n",
       "      <td>-87.631501</td>\n",
       "      <td>member</td>\n",
       "    </tr>\n",
       "  </tbody>\n",
       "</table>\n",
       "</div>"
      ],
      "text/plain": [
       "            ride_id rideable_type           started_at             ended_at  \\\n",
       "0  762198876D69004D   docked_bike  2020-07-09 15:22:02  2020-07-09 15:25:52   \n",
       "1  BEC9C9FBA0D4CF1B   docked_bike  2020-07-24 23:56:30  2020-07-25 00:20:17   \n",
       "2  D2FD8EA432C77EC1   docked_bike  2020-07-08 19:49:07  2020-07-08 19:56:22   \n",
       "3  54AE594E20B35881   docked_bike  2020-07-17 19:06:42  2020-07-17 19:27:38   \n",
       "4  54025FDC7440B56F   docked_bike  2020-07-04 10:39:57  2020-07-04 10:45:05   \n",
       "\n",
       "              start_station_name start_station_id           end_station_name  \\\n",
       "0          Ritchie Ct & Banks St            180.0   Wells St & Evergreen Ave   \n",
       "1         Halsted St & Roscoe St            299.0       Broadway & Ridge Ave   \n",
       "2  Lake Shore Dr & Diversey Pkwy            329.0  Clark St & Wellington Ave   \n",
       "3       LaSalle St & Illinois St            181.0    Clark St & Armitage Ave   \n",
       "4     Lake Shore Dr & North Blvd            268.0     Clark St & Schiller St   \n",
       "\n",
       "  end_station_id  start_lat  start_lng    end_lat    end_lng member_casual  \n",
       "0          291.0  41.906866 -87.626217  41.906724 -87.634830        member  \n",
       "1          461.0  41.943670 -87.648950  41.984045 -87.660274        member  \n",
       "2          156.0  41.932588 -87.636427  41.936497 -87.647539        casual  \n",
       "3           94.0  41.890762 -87.631697  41.918306 -87.636282        casual  \n",
       "4          301.0  41.911722 -87.626804  41.907993 -87.631501        member  "
      ]
     },
     "execution_count": 4,
     "metadata": {},
     "output_type": "execute_result"
    }
   ],
   "source": [
    "df.head()"
   ]
  },
  {
   "cell_type": "code",
   "execution_count": 5,
   "id": "6344e820",
   "metadata": {},
   "outputs": [
    {
     "name": "stdout",
     "output_type": "stream",
     "text": [
      "<class 'pandas.core.frame.DataFrame'>\n",
      "Int64Index: 4460151 entries, 0 to 729594\n",
      "Data columns (total 13 columns):\n",
      " #   Column              Dtype  \n",
      "---  ------              -----  \n",
      " 0   ride_id             object \n",
      " 1   rideable_type       object \n",
      " 2   started_at          object \n",
      " 3   ended_at            object \n",
      " 4   start_station_name  object \n",
      " 5   start_station_id    object \n",
      " 6   end_station_name    object \n",
      " 7   end_station_id      object \n",
      " 8   start_lat           float64\n",
      " 9   start_lng           float64\n",
      " 10  end_lat             float64\n",
      " 11  end_lng             float64\n",
      " 12  member_casual       object \n",
      "dtypes: float64(4), object(9)\n",
      "memory usage: 476.4+ MB\n"
     ]
    }
   ],
   "source": [
    "df.info()"
   ]
  },
  {
   "cell_type": "code",
   "execution_count": 6,
   "id": "06971f49",
   "metadata": {},
   "outputs": [],
   "source": [
    "df['started_at'] = pd.to_datetime(df['started_at'])\n",
    "df['ended_at'] = pd.to_datetime(df['ended_at'])"
   ]
  },
  {
   "cell_type": "code",
   "execution_count": 7,
   "id": "f3545444",
   "metadata": {},
   "outputs": [],
   "source": [
    "df['ride_length'] = df['ended_at'] - df['started_at']"
   ]
  },
  {
   "cell_type": "code",
   "execution_count": 8,
   "id": "7d66145c",
   "metadata": {},
   "outputs": [],
   "source": [
    "df['day_started'] = df['started_at'].dt.dayofweek #Monday = 0, Sunday = 6\n",
    "df['day_of_week'] = df['started_at'].dt.day_name(locale='English')"
   ]
  },
  {
   "cell_type": "code",
   "execution_count": 9,
   "id": "f65573ee",
   "metadata": {},
   "outputs": [],
   "source": [
    "df['month_started'] = pd.DatetimeIndex(df['started_at']).month"
   ]
  },
  {
   "cell_type": "code",
   "execution_count": 10,
   "id": "db507813",
   "metadata": {},
   "outputs": [],
   "source": [
    "df['ride_length_min'] = df['ride_length'].astype('timedelta64[m]')"
   ]
  },
  {
   "cell_type": "code",
   "execution_count": 11,
   "id": "93a0b51b",
   "metadata": {},
   "outputs": [
    {
     "data": {
      "text/plain": [
       "ride_id                    0\n",
       "rideable_type              0\n",
       "started_at                 0\n",
       "ended_at                   0\n",
       "start_station_name    282068\n",
       "start_station_id      282694\n",
       "end_station_name      315109\n",
       "end_station_id        315570\n",
       "start_lat                  0\n",
       "start_lng                  0\n",
       "end_lat                 5286\n",
       "end_lng                 5286\n",
       "member_casual              0\n",
       "ride_length                0\n",
       "day_started                0\n",
       "day_of_week                0\n",
       "month_started              0\n",
       "ride_length_min            0\n",
       "dtype: int64"
      ]
     },
     "execution_count": 11,
     "metadata": {},
     "output_type": "execute_result"
    }
   ],
   "source": [
    "df.isna().sum()"
   ]
  },
  {
   "cell_type": "code",
   "execution_count": 12,
   "id": "e78bd552",
   "metadata": {},
   "outputs": [],
   "source": [
    "#Remove missing values\n",
    "df_dropped = df.dropna()"
   ]
  },
  {
   "cell_type": "code",
   "execution_count": 13,
   "id": "300735d3",
   "metadata": {},
   "outputs": [],
   "source": [
    "#Remove values with ride_length_min <0 & ride_length_min > 24*60 (1 day)\n",
    "df_dropped = df_dropped[df_dropped['ride_length_min']>0]  \n",
    "df_dropped = df_dropped[df_dropped['ride_length_min']< 24*60]"
   ]
  },
  {
   "cell_type": "code",
   "execution_count": 14,
   "id": "aa5d7a40",
   "metadata": {
    "scrolled": true
   },
   "outputs": [
    {
     "data": {
      "text/plain": [
       "member_casual\n",
       "casual    1704295\n",
       "member    2255813\n",
       "Name: member_casual, dtype: int64"
      ]
     },
     "metadata": {},
     "output_type": "display_data"
    },
    {
     "data": {
      "text/plain": [
       "Text(0.5, 1.0, 'Proportion of member type')"
      ]
     },
     "execution_count": 14,
     "metadata": {},
     "output_type": "execute_result"
    },
    {
     "data": {
      "image/png": "[encoded data removed]",
      "text/plain": [
       "<Figure size 432x288 with 1 Axes>"
      ]
     },
     "metadata": {},
     "output_type": "display_data"
    }
   ],
   "source": [
    "#Proportion of member type\n",
    "prop = df_dropped.groupby('member_casual')['member_casual'].count()\n",
    "display(prop)\n",
    "#Creating chart\n",
    "fig, ax = plt.subplots()\n",
    "labels = prop.keys()\n",
    "ax.pie(x=prop, autopct=\"%.1f%%\",labels=labels)\n",
    "ax.set_title(\"Proportion of member type\")"
   ]
  },
  {
   "cell_type": "code",
   "execution_count": 15,
   "id": "7b40cbc5",
   "metadata": {},
   "outputs": [
    {
     "data": {
      "text/html": [
       "<div>\n",
       "<style scoped>\n",
       "    .dataframe tbody tr th:only-of-type {\n",
       "        vertical-align: middle;\n",
       "    }\n",
       "\n",
       "    .dataframe tbody tr th {\n",
       "        vertical-align: top;\n",
       "    }\n",
       "\n",
       "    .dataframe thead tr th {\n",
       "        text-align: left;\n",
       "    }\n",
       "\n",
       "    .dataframe thead tr:last-of-type th {\n",
       "        text-align: right;\n",
       "    }\n",
       "</style>\n",
       "<table border=\"1\" class=\"dataframe\">\n",
       "  <thead>\n",
       "    <tr>\n",
       "      <th></th>\n",
       "      <th colspan=\"3\" halign=\"left\">ride_length_min</th>\n",
       "    </tr>\n",
       "    <tr>\n",
       "      <th></th>\n",
       "      <th>min</th>\n",
       "      <th>max</th>\n",
       "      <th>mean</th>\n",
       "    </tr>\n",
       "    <tr>\n",
       "      <th>member_casual</th>\n",
       "      <th></th>\n",
       "      <th></th>\n",
       "      <th></th>\n",
       "    </tr>\n",
       "  </thead>\n",
       "  <tbody>\n",
       "    <tr>\n",
       "      <th>casual</th>\n",
       "      <td>1.0</td>\n",
       "      <td>1439.0</td>\n",
       "      <td>34.030937</td>\n",
       "    </tr>\n",
       "    <tr>\n",
       "      <th>member</th>\n",
       "      <td>1.0</td>\n",
       "      <td>1439.0</td>\n",
       "      <td>14.370181</td>\n",
       "    </tr>\n",
       "  </tbody>\n",
       "</table>\n",
       "</div>"
      ],
      "text/plain": [
       "              ride_length_min                   \n",
       "                          min     max       mean\n",
       "member_casual                                   \n",
       "casual                    1.0  1439.0  34.030937\n",
       "member                    1.0  1439.0  14.370181"
      ]
     },
     "execution_count": 15,
     "metadata": {},
     "output_type": "execute_result"
    }
   ],
   "source": [
    "#Summary of ride_length_sec by member_casual\n",
    "summary = df_dropped.groupby('member_casual').agg({'ride_length_min':['min', 'max', 'mean']})\n",
    "summary"
   ]
  },
  {
   "cell_type": "code",
   "execution_count": 16,
   "id": "634d7bbd",
   "metadata": {
    "scrolled": false
   },
   "outputs": [
    {
     "data": {
      "text/plain": [
       "Text(0.5, 1.0, 'Average length of trip per day per member type')"
      ]
     },
     "execution_count": 16,
     "metadata": {},
     "output_type": "execute_result"
    },
    {
     "data": {
      "image/png": "[encoded data removed]",
      "text/plain": [
       "<Figure size 1080x576 with 1 Axes>"
      ]
     },
     "metadata": {
      "needs_background": "light"
     },
     "output_type": "display_data"
    }
   ],
   "source": [
    "#Display the average ride_length_min for members and casual riders per day\n",
    "plt.figure(figsize = (15,8))\n",
    "sns.barplot(data=df_dropped, x='day_of_week',y='ride_length_min',hue='member_casual', ci=None)\n",
    "plt.title('Average length of trip per day per member type')"
   ]
  },
  {
   "cell_type": "code",
   "execution_count": 17,
   "id": "a899f766",
   "metadata": {},
   "outputs": [
    {
     "data": {
      "text/plain": [
       "Text(0.5, 1.0, 'The number of rides for users per day')"
      ]
     },
     "execution_count": 17,
     "metadata": {},
     "output_type": "execute_result"
    },
    {
     "data": {
      "text/plain": [
       "<Figure size 1080x576 with 0 Axes>"
      ]
     },
     "metadata": {},
     "output_type": "display_data"
    },
    {
     "data": {
      "image/png": "[encoded data removed]",
      "text/plain": [
       "<Figure size 447.125x360 with 1 Axes>"
      ]
     },
     "metadata": {
      "needs_background": "light"
     },
     "output_type": "display_data"
    }
   ],
   "source": [
    "#Display the number of rides for users per day\n",
    "plt.figure(figsize = (15,8))\n",
    "sns.catplot(data=df_dropped, x='day_of_week', hue='member_casual', kind='count', ci=None)\n",
    "plt.title('The number of rides for users per day')\n"
   ]
  },
  {
   "cell_type": "code",
   "execution_count": 18,
   "id": "916da283",
   "metadata": {
    "scrolled": false
   },
   "outputs": [
    {
     "data": {
      "text/plain": [
       "Text(0.5, 1.0, 'Average length of trip per month per member type')"
      ]
     },
     "execution_count": 18,
     "metadata": {},
     "output_type": "execute_result"
    },
    {
     "data": {
      "image/png": "[encoded data removed]",
      "text/plain": [
       "<Figure size 1080x576 with 1 Axes>"
      ]
     },
     "metadata": {
      "needs_background": "light"
     },
     "output_type": "display_data"
    }
   ],
   "source": [
    "#Display the average ride_length_min for members and casual riders per month\n",
    "plt.figure(figsize = (15,8))\n",
    "sns.barplot(data=df_dropped, x='month_started',y='ride_length_min',hue='member_casual', ci=None)\n",
    "plt.title('Average length of trip per month per member type')"
   ]
  },
  {
   "cell_type": "code",
   "execution_count": 19,
   "id": "42605183",
   "metadata": {
    "scrolled": true
   },
   "outputs": [
    {
     "data": {
      "text/plain": [
       "Text(0.5, 1.0, 'The Average Number of Riders by Month')"
      ]
     },
     "execution_count": 19,
     "metadata": {},
     "output_type": "execute_result"
    },
    {
     "data": {
      "image/png": "[encoded data removed]",
      "text/plain": [
       "<Figure size 1080x576 with 1 Axes>"
      ]
     },
     "metadata": {
      "needs_background": "light"
     },
     "output_type": "display_data"
    }
   ],
   "source": [
    "#Display The Average Number of Riders by Month\n",
    "plt.figure(figsize = (15,8))\n",
    "sns.histplot(df_dropped, x='month_started', binwidth=1)\n",
    "plt.title('The Average Number of Riders by Month')"
   ]
  },
  {
   "cell_type": "code",
   "execution_count": 20,
   "id": "5a584ba6",
   "metadata": {},
   "outputs": [
    {
     "data": {
      "text/plain": [
       "<seaborn.axisgrid.FacetGrid at 0x21499b269a0>"
      ]
     },
     "execution_count": 20,
     "metadata": {},
     "output_type": "execute_result"
    },
    {
     "data": {
      "text/plain": [
       "<Figure size 936x576 with 0 Axes>"
      ]
     },
     "metadata": {},
     "output_type": "display_data"
    },
    {
     "data": {
      "image/png": "[encoded data removed]",
      "text/plain": [
       "<Figure size 1080x360 with 3 Axes>"
      ]
     },
     "metadata": {
      "needs_background": "light"
     },
     "output_type": "display_data"
    }
   ],
   "source": [
    "#Display the usage of bikes by members and casual riders\n",
    "plt.figure(figsize = (13,8))\n",
    "sns.catplot(data=df_dropped, x='member_casual',kind='count',col='rideable_type', ci=None)"
   ]
  }
 ],
 "metadata": {
  "kernelspec": {
   "display_name": "Python 3",
   "language": "python",
   "name": "python3"
  },
  "language_info": {
   "codemirror_mode": {
    "name": "ipython",
    "version": 3
   },
   "file_extension": ".py",
   "mimetype": "text/x-python",
   "name": "python",
   "nbconvert_exporter": "python",
   "pygments_lexer": "ipython3",
   "version": "3.8.8"
  }
 },
 "nbformat": 4,
 "nbformat_minor": 5
}
